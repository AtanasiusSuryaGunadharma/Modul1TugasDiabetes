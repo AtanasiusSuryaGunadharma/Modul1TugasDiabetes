{
 "cells": [
  {
   "cell_type": "markdown",
   "metadata": {},
   "source": [
    "# Tugas Modul Introduction to Machine Learning\n",
    "Dalam sebuah rapat di Komunitas Peduli Diabetes Kota Ayodya, pengurus komunitas sedang mencari cara untuk meningkatkan deteksi dini diabetes pada anggota keluarga komunitas mereka. Mereka mengetahui bahwa diabetes adalah salah satu penyakit kronis paling umum dan memiliki dampak signifikan terhadap kualitas hidup. Tim medis pendamping komunitas ineign menggunakan machine learning untuk membantu mereka memprediksi kemungkinan anggota keluarga peserta yang mengalami diabetes berdasarkan pengukuran diagnostik.\n",
    "\n",
    "Untuk mencapai tujuan ini, tim medis bekerja sama dengan sebuah tim data scientist untuk mengumpulkan data dari pusat kesehatan. Data yang dikumpulkan meliputi informasi tentang jumlah kehamilan (untuk perempuan), konsentrasi glukosa plasma, tekanan darah diastolik, ketebalan lipatan kulit trisep, insulin serum 2 jam, indeks massa tubuh (BMI), fungsi watisan diabetes, dan usia. Setelah data dikumpulkan, tim data scientist menggunakan dataset untuk melatih model machine learning mereka. Model ini nantinya akan diuji coba pada data pasien pusat kesehatan. Anda adalah data scientist pemula yang direkrut untuk membantu tim dalam mengembangkan model machine learning tersebut.\n",
    "\n",
    "Instruksi dari pimpinan tim data scientis yang Anda terima adalah sebagai berikut:\n",
    "\n",
    "Selamat datang untuk rekan-rekan baru tim data scientist. Berikut adalah instruksi yang dapat saya berikan untuk membuat model machine learning menggunakan algoritma Support Vector Machine (SVM) dan Random Forest (RF) :\n",
    "1. Pahami dataset: \n",
    "Sebelum memulai pembuatan model, pastikan Anda memahami dataset yang akan digunakan. Periksa apakah terdapat missing value.\n",
    "2. Tentukan fitur dan target: \n",
    "Sebagai awalan, kita akan menggunakan semua fitur yang sudah ditentukan oleh tim dokter. Tentukan fitur dan target yang akan digunakan untuk melatih model. Untuk nilai parameter **random_state** pada pemisahan dataset disesuaikan dengan dua digit terakhir nomor pegawai Anda (random state: **dua digit terakhir NPM**).\n",
    "3. Buat model SVM: \n",
    "Gunakan library scikit-learn untuk membuat model SVM. Anda diperbolehkan untuk menyesuaikan parameter seperti C dan gamma agar model dapat bekerja dengan baik pada dataset. Untuk nilai parameter **random_state** pada pemisahan dataset disesuaikan dengan dua digit terakhir nomor pegawai Anda (random state: **dua digit terakhir NPM**).\n",
    "4. Buat model Random Forest: \n",
    "Gunakan library scikit-learn untuk membuat model Random Forest. Anda diperbolehkan untuk menyesuaikan parameter seperti max_depth dan n_estimators agar model dapat bekerja dengan baik pada dataset. Untuk nilai parameter **random_state** disesuaikan dengan dua digit terakhir nomor pegawai Anda (random state: **dua digit terakhir NPM**).\n",
    "5. Evaluasi model:\n",
    "Setelah membuat kedua model, lakukan evaluasi untuk mengetahui performa masing-masing model. Semoga instruksi ini dapat membantu anggota baru dalam membuat model machine learning menggunakan algoritma SVM dan Random Forest. Jika ada pertanyaan atau kesulitan, jangan ragu untuk menghubungi Dosen dan Asisten Dosen\n",
    "6. Buat Interface Streamlit: \n",
    "Setelah model tersimpan, buat antarmuka yang dapat digunakan oleh tim medis dan pengurus Komunitas Peduli Diabetes Kota Ayodya untuk memprediksi kemungkinan seseorang terkena diabetes.\n",
    "\n",
    "\n",
    "Dataset yang tersedia dalam bentuk CSV. \n",
    "Dataset dapat di download melalui link berikut : https://www.kaggle.com/datasets/mathchi/diabetes-data-set"
   ]
  },
  {
   "cell_type": "markdown",
   "metadata": {},
   "source": [
    "- Tahap pertama adalah load dataset berdasarkan path di mana dataset disimpan.\n",
    "- Karena dataset dalam bentuk file CSV, kita menggunakan fungsi `read_csv` dari Pandas."
   ]
  },
  {
   "cell_type": "code",
   "execution_count": 17,
   "metadata": {},
   "outputs": [
    {
     "data": {
      "text/html": [
       "<div>\n",
       "<style scoped>\n",
       "    .dataframe tbody tr th:only-of-type {\n",
       "        vertical-align: middle;\n",
       "    }\n",
       "\n",
       "    .dataframe tbody tr th {\n",
       "        vertical-align: top;\n",
       "    }\n",
       "\n",
       "    .dataframe thead th {\n",
       "        text-align: right;\n",
       "    }\n",
       "</style>\n",
       "<table border=\"1\" class=\"dataframe\">\n",
       "  <thead>\n",
       "    <tr style=\"text-align: right;\">\n",
       "      <th></th>\n",
       "      <th>Pregnancies</th>\n",
       "      <th>Glucose</th>\n",
       "      <th>BloodPressure</th>\n",
       "      <th>SkinThickness</th>\n",
       "      <th>Insulin</th>\n",
       "      <th>BMI</th>\n",
       "      <th>DiabetesPedigreeFunction</th>\n",
       "      <th>Age</th>\n",
       "      <th>Outcome</th>\n",
       "    </tr>\n",
       "  </thead>\n",
       "  <tbody>\n",
       "    <tr>\n",
       "      <th>0</th>\n",
       "      <td>6</td>\n",
       "      <td>148</td>\n",
       "      <td>72</td>\n",
       "      <td>35</td>\n",
       "      <td>0</td>\n",
       "      <td>33.6</td>\n",
       "      <td>0.627</td>\n",
       "      <td>50</td>\n",
       "      <td>1</td>\n",
       "    </tr>\n",
       "    <tr>\n",
       "      <th>1</th>\n",
       "      <td>1</td>\n",
       "      <td>85</td>\n",
       "      <td>66</td>\n",
       "      <td>29</td>\n",
       "      <td>0</td>\n",
       "      <td>26.6</td>\n",
       "      <td>0.351</td>\n",
       "      <td>31</td>\n",
       "      <td>0</td>\n",
       "    </tr>\n",
       "    <tr>\n",
       "      <th>2</th>\n",
       "      <td>8</td>\n",
       "      <td>183</td>\n",
       "      <td>64</td>\n",
       "      <td>0</td>\n",
       "      <td>0</td>\n",
       "      <td>23.3</td>\n",
       "      <td>0.672</td>\n",
       "      <td>32</td>\n",
       "      <td>1</td>\n",
       "    </tr>\n",
       "    <tr>\n",
       "      <th>3</th>\n",
       "      <td>1</td>\n",
       "      <td>89</td>\n",
       "      <td>66</td>\n",
       "      <td>23</td>\n",
       "      <td>94</td>\n",
       "      <td>28.1</td>\n",
       "      <td>0.167</td>\n",
       "      <td>21</td>\n",
       "      <td>0</td>\n",
       "    </tr>\n",
       "    <tr>\n",
       "      <th>4</th>\n",
       "      <td>0</td>\n",
       "      <td>137</td>\n",
       "      <td>40</td>\n",
       "      <td>35</td>\n",
       "      <td>168</td>\n",
       "      <td>43.1</td>\n",
       "      <td>2.288</td>\n",
       "      <td>33</td>\n",
       "      <td>1</td>\n",
       "    </tr>\n",
       "    <tr>\n",
       "      <th>...</th>\n",
       "      <td>...</td>\n",
       "      <td>...</td>\n",
       "      <td>...</td>\n",
       "      <td>...</td>\n",
       "      <td>...</td>\n",
       "      <td>...</td>\n",
       "      <td>...</td>\n",
       "      <td>...</td>\n",
       "      <td>...</td>\n",
       "    </tr>\n",
       "    <tr>\n",
       "      <th>763</th>\n",
       "      <td>10</td>\n",
       "      <td>101</td>\n",
       "      <td>76</td>\n",
       "      <td>48</td>\n",
       "      <td>180</td>\n",
       "      <td>32.9</td>\n",
       "      <td>0.171</td>\n",
       "      <td>63</td>\n",
       "      <td>0</td>\n",
       "    </tr>\n",
       "    <tr>\n",
       "      <th>764</th>\n",
       "      <td>2</td>\n",
       "      <td>122</td>\n",
       "      <td>70</td>\n",
       "      <td>27</td>\n",
       "      <td>0</td>\n",
       "      <td>36.8</td>\n",
       "      <td>0.340</td>\n",
       "      <td>27</td>\n",
       "      <td>0</td>\n",
       "    </tr>\n",
       "    <tr>\n",
       "      <th>765</th>\n",
       "      <td>5</td>\n",
       "      <td>121</td>\n",
       "      <td>72</td>\n",
       "      <td>23</td>\n",
       "      <td>112</td>\n",
       "      <td>26.2</td>\n",
       "      <td>0.245</td>\n",
       "      <td>30</td>\n",
       "      <td>0</td>\n",
       "    </tr>\n",
       "    <tr>\n",
       "      <th>766</th>\n",
       "      <td>1</td>\n",
       "      <td>126</td>\n",
       "      <td>60</td>\n",
       "      <td>0</td>\n",
       "      <td>0</td>\n",
       "      <td>30.1</td>\n",
       "      <td>0.349</td>\n",
       "      <td>47</td>\n",
       "      <td>1</td>\n",
       "    </tr>\n",
       "    <tr>\n",
       "      <th>767</th>\n",
       "      <td>1</td>\n",
       "      <td>93</td>\n",
       "      <td>70</td>\n",
       "      <td>31</td>\n",
       "      <td>0</td>\n",
       "      <td>30.4</td>\n",
       "      <td>0.315</td>\n",
       "      <td>23</td>\n",
       "      <td>0</td>\n",
       "    </tr>\n",
       "  </tbody>\n",
       "</table>\n",
       "<p>768 rows × 9 columns</p>\n",
       "</div>"
      ],
      "text/plain": [
       "     Pregnancies  Glucose  BloodPressure  SkinThickness  Insulin   BMI  \\\n",
       "0              6      148             72             35        0  33.6   \n",
       "1              1       85             66             29        0  26.6   \n",
       "2              8      183             64              0        0  23.3   \n",
       "3              1       89             66             23       94  28.1   \n",
       "4              0      137             40             35      168  43.1   \n",
       "..           ...      ...            ...            ...      ...   ...   \n",
       "763           10      101             76             48      180  32.9   \n",
       "764            2      122             70             27        0  36.8   \n",
       "765            5      121             72             23      112  26.2   \n",
       "766            1      126             60              0        0  30.1   \n",
       "767            1       93             70             31        0  30.4   \n",
       "\n",
       "     DiabetesPedigreeFunction  Age  Outcome  \n",
       "0                       0.627   50        1  \n",
       "1                       0.351   31        0  \n",
       "2                       0.672   32        1  \n",
       "3                       0.167   21        0  \n",
       "4                       2.288   33        1  \n",
       "..                        ...  ...      ...  \n",
       "763                     0.171   63        0  \n",
       "764                     0.340   27        0  \n",
       "765                     0.245   30        0  \n",
       "766                     0.349   47        1  \n",
       "767                     0.315   23        0  \n",
       "\n",
       "[768 rows x 9 columns]"
      ]
     },
     "execution_count": 17,
     "metadata": {},
     "output_type": "execute_result"
    }
   ],
   "source": [
    "import pandas as pd\n",
    "import numpy as np\n",
    "\n",
    "#load data\n",
    "diabetes_csv = pd.read_csv(r'diabetes.csv') ##Disesuaikan dengan tempat penyimpanan file csv Dataset diabetes\n",
    "## file nya tidak harus di C, bisa disimpan di D juga\n",
    " \n",
    "#load dataset ke dalam dataframe\n",
    "df_diabetes = pd.DataFrame(data = diabetes_csv, index = None)\n",
    "df_diabetes"
   ]
  },
  {
   "cell_type": "markdown",
   "metadata": {},
   "source": [
    "- Data yang hilang akan membuat model menjadi error, untuk itu kita perlu menanganinya.\n",
    "- Kita dapat melakukan pengecekan pada data apabila ada data yang bernilai null, kosong, atau NaN dengan cara seperti berikut:"
   ]
  },
  {
   "cell_type": "code",
   "execution_count": 18,
   "metadata": {},
   "outputs": [
    {
     "name": "stdout",
     "output_type": "stream",
     "text": [
      "data null\n",
      " Pregnancies                 0\n",
      "Glucose                     0\n",
      "BloodPressure               0\n",
      "SkinThickness               0\n",
      "Insulin                     0\n",
      "BMI                         0\n",
      "DiabetesPedigreeFunction    0\n",
      "Age                         0\n",
      "Outcome                     0\n",
      "dtype: int64\n",
      "\n",
      "\n",
      "data kosong \n",
      " False\n",
      "\n",
      "\n",
      "data nan \n",
      " Pregnancies                 0\n",
      "Glucose                     0\n",
      "BloodPressure               0\n",
      "SkinThickness               0\n",
      "Insulin                     0\n",
      "BMI                         0\n",
      "DiabetesPedigreeFunction    0\n",
      "Age                         0\n",
      "Outcome                     0\n",
      "dtype: int64\n"
     ]
    }
   ],
   "source": [
    "#mengecek data kosong, null, dan nan\n",
    "print(\"data null\\n\", df_diabetes.isnull().sum())\n",
    "print(\"\\n\")\n",
    "print(\"data kosong \\n\", df_diabetes.empty)\n",
    "print(\"\\n\")\n",
    "print(\"data nan \\n\", df_diabetes.isna().sum())"
   ]
  },
  {
   "cell_type": "markdown",
   "metadata": {},
   "source": [
    "- Dataset dapat kita deskripsikan secara statistik menggunakan fungsi `describe()` dan menghasilkan luaran seperti berikut:"
   ]
  },
  {
   "cell_type": "code",
   "execution_count": 19,
   "metadata": {},
   "outputs": [
    {
     "data": {
      "text/html": [
       "<div>\n",
       "<style scoped>\n",
       "    .dataframe tbody tr th:only-of-type {\n",
       "        vertical-align: middle;\n",
       "    }\n",
       "\n",
       "    .dataframe tbody tr th {\n",
       "        vertical-align: top;\n",
       "    }\n",
       "\n",
       "    .dataframe thead th {\n",
       "        text-align: right;\n",
       "    }\n",
       "</style>\n",
       "<table border=\"1\" class=\"dataframe\">\n",
       "  <thead>\n",
       "    <tr style=\"text-align: right;\">\n",
       "      <th></th>\n",
       "      <th>Pregnancies</th>\n",
       "      <th>Glucose</th>\n",
       "      <th>BloodPressure</th>\n",
       "      <th>SkinThickness</th>\n",
       "      <th>Insulin</th>\n",
       "      <th>BMI</th>\n",
       "      <th>DiabetesPedigreeFunction</th>\n",
       "      <th>Age</th>\n",
       "      <th>Outcome</th>\n",
       "    </tr>\n",
       "  </thead>\n",
       "  <tbody>\n",
       "    <tr>\n",
       "      <th>count</th>\n",
       "      <td>768.000000</td>\n",
       "      <td>768.000000</td>\n",
       "      <td>768.000000</td>\n",
       "      <td>768.000000</td>\n",
       "      <td>768.000000</td>\n",
       "      <td>768.000000</td>\n",
       "      <td>768.000000</td>\n",
       "      <td>768.000000</td>\n",
       "      <td>768.000000</td>\n",
       "    </tr>\n",
       "    <tr>\n",
       "      <th>mean</th>\n",
       "      <td>3.845052</td>\n",
       "      <td>120.894531</td>\n",
       "      <td>69.105469</td>\n",
       "      <td>20.536458</td>\n",
       "      <td>79.799479</td>\n",
       "      <td>31.992578</td>\n",
       "      <td>0.471876</td>\n",
       "      <td>33.240885</td>\n",
       "      <td>0.348958</td>\n",
       "    </tr>\n",
       "    <tr>\n",
       "      <th>std</th>\n",
       "      <td>3.369578</td>\n",
       "      <td>31.972618</td>\n",
       "      <td>19.355807</td>\n",
       "      <td>15.952218</td>\n",
       "      <td>115.244002</td>\n",
       "      <td>7.884160</td>\n",
       "      <td>0.331329</td>\n",
       "      <td>11.760232</td>\n",
       "      <td>0.476951</td>\n",
       "    </tr>\n",
       "    <tr>\n",
       "      <th>min</th>\n",
       "      <td>0.000000</td>\n",
       "      <td>0.000000</td>\n",
       "      <td>0.000000</td>\n",
       "      <td>0.000000</td>\n",
       "      <td>0.000000</td>\n",
       "      <td>0.000000</td>\n",
       "      <td>0.078000</td>\n",
       "      <td>21.000000</td>\n",
       "      <td>0.000000</td>\n",
       "    </tr>\n",
       "    <tr>\n",
       "      <th>25%</th>\n",
       "      <td>1.000000</td>\n",
       "      <td>99.000000</td>\n",
       "      <td>62.000000</td>\n",
       "      <td>0.000000</td>\n",
       "      <td>0.000000</td>\n",
       "      <td>27.300000</td>\n",
       "      <td>0.243750</td>\n",
       "      <td>24.000000</td>\n",
       "      <td>0.000000</td>\n",
       "    </tr>\n",
       "    <tr>\n",
       "      <th>50%</th>\n",
       "      <td>3.000000</td>\n",
       "      <td>117.000000</td>\n",
       "      <td>72.000000</td>\n",
       "      <td>23.000000</td>\n",
       "      <td>30.500000</td>\n",
       "      <td>32.000000</td>\n",
       "      <td>0.372500</td>\n",
       "      <td>29.000000</td>\n",
       "      <td>0.000000</td>\n",
       "    </tr>\n",
       "    <tr>\n",
       "      <th>75%</th>\n",
       "      <td>6.000000</td>\n",
       "      <td>140.250000</td>\n",
       "      <td>80.000000</td>\n",
       "      <td>32.000000</td>\n",
       "      <td>127.250000</td>\n",
       "      <td>36.600000</td>\n",
       "      <td>0.626250</td>\n",
       "      <td>41.000000</td>\n",
       "      <td>1.000000</td>\n",
       "    </tr>\n",
       "    <tr>\n",
       "      <th>max</th>\n",
       "      <td>17.000000</td>\n",
       "      <td>199.000000</td>\n",
       "      <td>122.000000</td>\n",
       "      <td>99.000000</td>\n",
       "      <td>846.000000</td>\n",
       "      <td>67.100000</td>\n",
       "      <td>2.420000</td>\n",
       "      <td>81.000000</td>\n",
       "      <td>1.000000</td>\n",
       "    </tr>\n",
       "  </tbody>\n",
       "</table>\n",
       "</div>"
      ],
      "text/plain": [
       "       Pregnancies     Glucose  BloodPressure  SkinThickness     Insulin  \\\n",
       "count   768.000000  768.000000     768.000000     768.000000  768.000000   \n",
       "mean      3.845052  120.894531      69.105469      20.536458   79.799479   \n",
       "std       3.369578   31.972618      19.355807      15.952218  115.244002   \n",
       "min       0.000000    0.000000       0.000000       0.000000    0.000000   \n",
       "25%       1.000000   99.000000      62.000000       0.000000    0.000000   \n",
       "50%       3.000000  117.000000      72.000000      23.000000   30.500000   \n",
       "75%       6.000000  140.250000      80.000000      32.000000  127.250000   \n",
       "max      17.000000  199.000000     122.000000      99.000000  846.000000   \n",
       "\n",
       "              BMI  DiabetesPedigreeFunction         Age     Outcome  \n",
       "count  768.000000                768.000000  768.000000  768.000000  \n",
       "mean    31.992578                  0.471876   33.240885    0.348958  \n",
       "std      7.884160                  0.331329   11.760232    0.476951  \n",
       "min      0.000000                  0.078000   21.000000    0.000000  \n",
       "25%     27.300000                  0.243750   24.000000    0.000000  \n",
       "50%     32.000000                  0.372500   29.000000    0.000000  \n",
       "75%     36.600000                  0.626250   41.000000    1.000000  \n",
       "max     67.100000                  2.420000   81.000000    1.000000  "
      ]
     },
     "execution_count": 19,
     "metadata": {},
     "output_type": "execute_result"
    }
   ],
   "source": [
    "df_diabetes.describe()"
   ]
  },
  {
   "cell_type": "markdown",
   "metadata": {},
   "source": [
    "### 2. Train-Test Split\n",
    "- Sebelum kita membuat model dari dataset kita perlu membagi dataset menjadi set data training dan data testing.\n",
    "- Data training merupakan bagian dari dataset yang digunakan untuk melatih algoritme pembelajaran mesin. Algoritme akan mempelajari ciri tiap class data dari masing-masing feature.\n",
    "- Sedangkan test set adalah bagian dari dataset yang digunakan untuk pengujian. Test set dianggap sebagai set data yang belum pernah dilihat atau dipelajari oleh model machine learning kita.\n",
    "- Secara umum rasio antara training set dan test set adalah 70%:30% dan 75%:25%."
   ]
  },
  {
   "cell_type": "code",
   "execution_count": 20,
   "metadata": {},
   "outputs": [
    {
     "name": "stdout",
     "output_type": "stream",
     "text": [
      "bentuk X_train (576, 8)\n",
      "bentuk X_test (192, 8)\n",
      "bentuk y_train (576,)\n",
      "bentuk y_test (192,)\n",
      "y_train \n",
      " 357    1\n",
      "73     0\n",
      "352    0\n",
      "497    0\n",
      "145    0\n",
      "      ..\n",
      "71     0\n",
      "106    0\n",
      "270    1\n",
      "435    1\n",
      "102    0\n",
      "Name: Outcome, Length: 576, dtype: int64\n",
      "y_test \n",
      " 668    0\n",
      "324    0\n",
      "624    0\n",
      "690    0\n",
      "473    0\n",
      "      ..\n",
      "554    0\n",
      "319    1\n",
      "594    0\n",
      "6      1\n",
      "615    0\n",
      "Name: Outcome, Length: 192, dtype: int64\n"
     ]
    }
   ],
   "source": [
    "#memuat library untuk train-test split dataset\n",
    "from sklearn.model_selection import train_test_split\n",
    "\n",
    "#memuat nilai fitur dalam variabel X, drop Outcome\n",
    "#axis = 1 digunakan untuk menghapus kolom\n",
    "X = df_diabetes.drop(columns=['Outcome'], axis = 1)\n",
    "\n",
    "#memuat nilai label dalam variabel y\n",
    "y = df_diabetes['Outcome']\n",
    "\n",
    "\n",
    "#membuat variabel X_train, X_test, y_train, dan y_test untuk menampung hasil split\n",
    "X_train, X_test, y_train, y_test = train_test_split(X, y, test_size = 0.25, random_state = 42)\n",
    "\n",
    "print(\"bentuk X_train\", X_train.shape)\n",
    "print(\"bentuk X_test\", X_test.shape)\n",
    "\n",
    "print(\"bentuk y_train\", y_train.shape)\n",
    "print(\"bentuk y_test\", y_test.shape)\n",
    "\n",
    "print(\"y_train \\n\", y_train)\n",
    "print(\"y_test \\n\", y_test)"
   ]
  },
  {
   "cell_type": "markdown",
   "metadata": {},
   "source": [
    "### 3. Melatih Model, Melakukan Prediksi, dan Evaluasi Model\n",
    "- Model dari algoritme dilatih menggunakan training set dan ada pengaturan parameter.\n",
    "- Parameter yang diatur sesuai dengan algoritme yang digunakan. Untuk kali ini kita akan mencoba menggunakan model Support Vector Machine dan Random Forest.\n",
    "- Setelah dilatih, kita melakukan prediksi terhadap test set dan menguji performa dari model yang sudah terbentuk.\n",
    "- Berikut adalah contoh code dari pemanggilan model dan pelatihannya:"
   ]
  },
  {
   "cell_type": "code",
   "execution_count": 21,
   "metadata": {},
   "outputs": [
    {
     "data": {
      "text/html": [
       "<style>#sk-container-id-2 {color: black;}#sk-container-id-2 pre{padding: 0;}#sk-container-id-2 div.sk-toggleable {background-color: white;}#sk-container-id-2 label.sk-toggleable__label {cursor: pointer;display: block;width: 100%;margin-bottom: 0;padding: 0.3em;box-sizing: border-box;text-align: center;}#sk-container-id-2 label.sk-toggleable__label-arrow:before {content: \"▸\";float: left;margin-right: 0.25em;color: #696969;}#sk-container-id-2 label.sk-toggleable__label-arrow:hover:before {color: black;}#sk-container-id-2 div.sk-estimator:hover label.sk-toggleable__label-arrow:before {color: black;}#sk-container-id-2 div.sk-toggleable__content {max-height: 0;max-width: 0;overflow: hidden;text-align: left;background-color: #f0f8ff;}#sk-container-id-2 div.sk-toggleable__content pre {margin: 0.2em;color: black;border-radius: 0.25em;background-color: #f0f8ff;}#sk-container-id-2 input.sk-toggleable__control:checked~div.sk-toggleable__content {max-height: 200px;max-width: 100%;overflow: auto;}#sk-container-id-2 input.sk-toggleable__control:checked~label.sk-toggleable__label-arrow:before {content: \"▾\";}#sk-container-id-2 div.sk-estimator input.sk-toggleable__control:checked~label.sk-toggleable__label {background-color: #d4ebff;}#sk-container-id-2 div.sk-label input.sk-toggleable__control:checked~label.sk-toggleable__label {background-color: #d4ebff;}#sk-container-id-2 input.sk-hidden--visually {border: 0;clip: rect(1px 1px 1px 1px);clip: rect(1px, 1px, 1px, 1px);height: 1px;margin: -1px;overflow: hidden;padding: 0;position: absolute;width: 1px;}#sk-container-id-2 div.sk-estimator {font-family: monospace;background-color: #f0f8ff;border: 1px dotted black;border-radius: 0.25em;box-sizing: border-box;margin-bottom: 0.5em;}#sk-container-id-2 div.sk-estimator:hover {background-color: #d4ebff;}#sk-container-id-2 div.sk-parallel-item::after {content: \"\";width: 100%;border-bottom: 1px solid gray;flex-grow: 1;}#sk-container-id-2 div.sk-label:hover label.sk-toggleable__label {background-color: #d4ebff;}#sk-container-id-2 div.sk-serial::before {content: \"\";position: absolute;border-left: 1px solid gray;box-sizing: border-box;top: 0;bottom: 0;left: 50%;z-index: 0;}#sk-container-id-2 div.sk-serial {display: flex;flex-direction: column;align-items: center;background-color: white;padding-right: 0.2em;padding-left: 0.2em;position: relative;}#sk-container-id-2 div.sk-item {position: relative;z-index: 1;}#sk-container-id-2 div.sk-parallel {display: flex;align-items: stretch;justify-content: center;background-color: white;position: relative;}#sk-container-id-2 div.sk-item::before, #sk-container-id-2 div.sk-parallel-item::before {content: \"\";position: absolute;border-left: 1px solid gray;box-sizing: border-box;top: 0;bottom: 0;left: 50%;z-index: -1;}#sk-container-id-2 div.sk-parallel-item {display: flex;flex-direction: column;z-index: 1;position: relative;background-color: white;}#sk-container-id-2 div.sk-parallel-item:first-child::after {align-self: flex-end;width: 50%;}#sk-container-id-2 div.sk-parallel-item:last-child::after {align-self: flex-start;width: 50%;}#sk-container-id-2 div.sk-parallel-item:only-child::after {width: 0;}#sk-container-id-2 div.sk-dashed-wrapped {border: 1px dashed gray;margin: 0 0.4em 0.5em 0.4em;box-sizing: border-box;padding-bottom: 0.4em;background-color: white;}#sk-container-id-2 div.sk-label label {font-family: monospace;font-weight: bold;display: inline-block;line-height: 1.2em;}#sk-container-id-2 div.sk-label-container {text-align: center;}#sk-container-id-2 div.sk-container {/* jupyter's `normalize.less` sets `[hidden] { display: none; }` but bootstrap.min.css set `[hidden] { display: none !important; }` so we also need the `!important` here to be able to override the default hidden behavior on the sphinx rendered scikit-learn.org. See: https://github.com/scikit-learn/scikit-learn/issues/21755 */display: inline-block !important;position: relative;}#sk-container-id-2 div.sk-text-repr-fallback {display: none;}</style><div id=\"sk-container-id-2\" class=\"sk-top-container\"><div class=\"sk-text-repr-fallback\"><pre>RandomForestClassifier(max_depth=5, random_state=42)</pre><b>In a Jupyter environment, please rerun this cell to show the HTML representation or trust the notebook. <br />On GitHub, the HTML representation is unable to render, please try loading this page with nbviewer.org.</b></div><div class=\"sk-container\" hidden><div class=\"sk-item\"><div class=\"sk-estimator sk-toggleable\"><input class=\"sk-toggleable__control sk-hidden--visually\" id=\"sk-estimator-id-2\" type=\"checkbox\" checked><label for=\"sk-estimator-id-2\" class=\"sk-toggleable__label sk-toggleable__label-arrow\">RandomForestClassifier</label><div class=\"sk-toggleable__content\"><pre>RandomForestClassifier(max_depth=5, random_state=42)</pre></div></div></div></div></div>"
      ],
      "text/plain": [
       "RandomForestClassifier(max_depth=5, random_state=42)"
      ]
     },
     "execution_count": 21,
     "metadata": {},
     "output_type": "execute_result"
    }
   ],
   "source": [
    "#import library untuk model machine learning\n",
    "from sklearn.svm import SVC\n",
    "from sklearn.ensemble import RandomForestClassifier\n",
    "\n",
    "#membuat obyek model machine learning dan setting parameternya\n",
    "SVM = SVC(C = 1, gamma= 0.01, random_state=42) \n",
    "RF = RandomForestClassifier(max_depth=5, n_estimators=100, random_state=42)\n",
    "\n",
    "#fungsi fit digunakan untuk melatih machine learning\n",
    "SVM.fit(X_train, y_train)\n",
    "RF.fit(X_train, y_train)"
   ]
  },
  {
   "cell_type": "code",
   "execution_count": 22,
   "metadata": {},
   "outputs": [
    {
     "name": "stdout",
     "output_type": "stream",
     "text": [
      "X_new yang akan diprediksi (1, 8)\n",
      "Label prediksi SVM [0]\n",
      "Label prediksi RF [1]\n"
     ]
    },
    {
     "name": "stderr",
     "output_type": "stream",
     "text": [
      "c:\\Users\\HP\\anaconda3\\Lib\\site-packages\\sklearn\\base.py:464: UserWarning: X does not have valid feature names, but SVC was fitted with feature names\n",
      "  warnings.warn(\n",
      "c:\\Users\\HP\\anaconda3\\Lib\\site-packages\\sklearn\\base.py:464: UserWarning: X does not have valid feature names, but RandomForestClassifier was fitted with feature names\n",
      "  warnings.warn(\n"
     ]
    }
   ],
   "source": [
    "#membuat array untuk X baru yang akan diprediksi\n",
    "X_new = np.array([[3, 197, 30, 19, 0, 44.8, 0.567, 55]])\n",
    "\n",
    "print(\"X_new yang akan diprediksi\", X_new.shape)\n",
    "\n",
    "#prediksi label dari X baru\n",
    "svm_predict = SVM.predict(X_new)\n",
    "print(\"Label prediksi SVM\", svm_predict)\n",
    "rf_predict = RF.predict(X_new)\n",
    "print(\"Label prediksi RF\", rf_predict)"
   ]
  },
  {
   "cell_type": "markdown",
   "metadata": {},
   "source": [
    "- Hasil prediksi tunggal seperti contoh sebelumnya belum bisa menentukan akurasi atau performa ketepatan model dalam memprediksi label suatu data.\n",
    "- Evaluasi dapat kita lakukan menggunakan test set yang sudah kita simpan tadi.\n",
    "- Langkah pengkodeannya adalah sebagai berikut:"
   ]
  },
  {
   "cell_type": "code",
   "execution_count": 23,
   "metadata": {},
   "outputs": [
    {
     "name": "stdout",
     "output_type": "stream",
     "text": [
      "Hasil prediksi SVM pada X_test: [0 0 0 1 1 0 0 0 1 0 0 0 0 0 0 0 0 0 0 0 1 0 0 0 0 0 0 0 0 0 0 0 0 0 0 0 0\n",
      " 0 0 1 0 0 0 1 0 0 0 0 0 0 0 0 0 0 0 0 0 0 0 1 0 0 0 0 0 0 0 0 0 0 0 0 0 0\n",
      " 0 0 0 0 0 0 0 0 0 0 0 0 0 0 0 0 0 0 0 0 0 0 0 0 0 0 0 0 0 0 1 0 0 0 0 0 0\n",
      " 0 0 0 0 0 0 0 0 0 0 0 0 0 0 0 0 0 0 0 0 0 0 0 0 1 0 0 0 0 0 0 0 0 0 0 0 0\n",
      " 0 1 0 0 0 0 0 0 0 0 0 0 1 0 0 0 0 1 0 0 0 0 1 0 0 0 0 0 0 0 0 0 0 0 1 0 0\n",
      " 0 0 0 0 0 0 0]\n",
      "Hasil prediksi RF pada X_test: [0 0 0 0 0 1 0 0 1 1 0 1 0 0 0 0 0 0 1 0 0 0 0 0 1 1 0 0 0 0 1 1 1 1 0 1 1\n",
      " 0 0 1 0 0 0 0 0 1 1 0 0 1 0 1 1 0 0 0 1 0 0 1 1 0 0 0 0 1 0 1 0 1 1 0 0 0\n",
      " 0 0 0 0 0 0 1 0 0 1 0 1 1 0 0 0 0 0 0 0 0 1 0 0 1 0 1 0 1 1 1 0 0 1 0 1 0\n",
      " 1 0 1 0 0 1 0 0 0 0 0 0 0 0 0 0 1 1 1 1 1 0 0 1 0 0 1 1 0 0 0 0 0 0 0 0 0\n",
      " 0 1 0 0 0 0 0 0 0 1 1 0 0 1 0 0 0 1 0 0 1 1 1 0 0 0 1 0 0 0 0 0 0 0 0 1 1\n",
      " 0 0 0 1 1 0 0]\n"
     ]
    }
   ],
   "source": [
    "#menggunakan fungsi predict untuk memprediksi label X_test\n",
    "y_pred_svm = SVM.predict(X_test)\n",
    "y_pred_rf = RF.predict(X_test)\n",
    "\n",
    "print(\"Hasil prediksi SVM pada X_test:\", y_pred_svm)\n",
    "print(\"Hasil prediksi RF pada X_test:\", y_pred_rf)"
   ]
  },
  {
   "cell_type": "code",
   "execution_count": 24,
   "metadata": {},
   "outputs": [
    {
     "name": "stdout",
     "output_type": "stream",
     "text": [
      "Akurasi model SVM: 0.641\n",
      "Akurasi model RF: 0.755\n"
     ]
    }
   ],
   "source": [
    "#menggunakan fungsi score untuk mengukur akurasi prediksi model\n",
    "print(\"Akurasi model SVM:\", round(SVM.score(X_test, y_test), 3))\n",
    "print(\"Akurasi model RF:\", round(RF.score(X_test, y_test), 3))"
   ]
  },
  {
   "cell_type": "markdown",
   "metadata": {},
   "source": [
    "- Dapat kita lihat bahwa akurasi model Random Forest lebih baik dibandingkan SVM. Maka model yang sebaiknya dipilih untuk tugas klasifikasi adalah Random Forest.\n",
    "- Setelah melakukan pelatihan dan pengujian model kita dapat menyimpan model menggunakan library Pickle."
   ]
  },
  {
   "cell_type": "code",
   "execution_count": 25,
   "metadata": {},
   "outputs": [
    {
     "name": "stdout",
     "output_type": "stream",
     "text": [
      "Model RF berhasil disimpan\n"
     ]
    }
   ],
   "source": [
    "#simpan model menggunakan library Pickle\n",
    "import pickle\n",
    "\n",
    "with open('rf_diabetes_model.pkl', 'wb') as f:\n",
    "    pickle.dump((RF), f)\n",
    "\n",
    "##File pickle akan tersimpan di folder yang sama dengan file notebook\n",
    "    \n",
    "print(\"Model RF berhasil disimpan\")"
   ]
  },
  {
   "cell_type": "markdown",
   "metadata": {},
   "source": [
    "Dalam konteks pickle, dump berarti menyimpan objek Python(model) ke dalam file. Ini adalah bagian dari proses serialisasi di mana objek Python dikonversi menjadi format byte yang dapat disimpan ke dalam file.\n"
   ]
  },
  {
   "cell_type": "markdown",
   "metadata": {},
   "source": [
    "#### Streamlit\n",
    "\n",
    "- Sebelum membuat antarmuka, pastikan bahwa streamlit telah terinstalasi. Cek dengan membuka Anaconda Prompt dan ketik `pip install streamlit`.\n",
    "- Setelah itu, buat file baru dengan ekstensi Python (.py) untuk antarmuka Streamlitm dan buatlah code berikut."
   ]
  },
  {
   "cell_type": "code",
   "execution_count": 28,
   "metadata": {},
   "outputs": [
    {
     "name": "stdout",
     "output_type": "stream",
     "text": [
      "File 'svm_rf_diabetes_model.pkl' tidak ditemukan di direktori\n"
     ]
    }
   ],
   "source": [
    "import streamlit as st\n",
    "import pandas as pd\n",
    "import pickle\n",
    "import os\n",
    "\n",
    "#load model\n",
    "model_directory = r'rf_diabetes_model.pkl' ##diisi dengan path folder dimana file dataset berada\n",
    "\n",
    "# Gunakan os.path.join() untuk menggabungkan direktori dan file model pickle\n",
    "model_path = os.path.join(model_directory, 'rf_diabetes_model.pkl') \n",
    "\n",
    "# Periksa apakah file ada di direktori yang ditentukan\n",
    "if os.path.exists(model_path):\n",
    "    try:\n",
    "        #muat model dari file pickle\n",
    "        with open(model_path, 'rb') as f:\n",
    "            loaded_model = pickle.load(f)\n",
    "            \n",
    "        svm_model = loaded_model[0]\n",
    "        rf_model = loaded_model[1]\n",
    "        \n",
    "        #bagian Streamlit App\n",
    "        st.title(\"Prediksi Diabetes\")\n",
    "        \n",
    "        st.write(\"Aplikasi ini digunakan untuk membantu memprediksi penyakit diabetes pada seseorang\")\n",
    "        \n",
    "        pregnancies = st.slider(\"Pregnancies\", min_value=0, max_value=17, step=1)\n",
    "        glucose = st.slider(\"Glucose (mg/dL)\", min_value=0.0, max_value=199.0, step=0.1)\n",
    "        bloodPressure = st.slider(\"Blood Pressure (mmHg)\", min_value=0, max_value=122, step=2)\n",
    "        skinThickness =st.slider(\"Skin Thickness (mm)\", min_value=0, max_value=99, step=2)\n",
    "        insulin\t= st.slider(\"Insulin (μU/mL)\", min_value=0, max_value=846, step=10)\n",
    "        bmi = st.slider(\"BMI\", min_value=0.0, max_value=67.1, step=0.1)\n",
    "        diabetesPedigreeFunction = st.slider(\"Diabetes Pedigree Function\", min_value=0.07, max_value=2.42, step=0.1)\n",
    "        age = st.slider(\"Age\", min_value=21, max_value=81, step=1)\n",
    "\n",
    "        #prediksi diabetes berdasarkan input\n",
    "        \n",
    "        input_data = [[pregnancies, glucose, bloodPressure, skinThickness, insulin, bmi, diabetesPedigreeFunction, age]]\n",
    "\n",
    "        if st.button(\"Prediksi!\"):\n",
    "\n",
    "            rf_model_prediction = rf_model.predict(input_data)\n",
    "            outcome_names = {0: 'Tidak Diabetes', 1: 'Diabetes'}\n",
    "            st.write(f\"Orang tersebut diprediksi **{outcome_names[rf_model_prediction[0]]}** oleh RF\")\n",
    "        \n",
    "    except Exception as e:\n",
    "        st.error(\"Terjadi kesalahan: {e}\")\n",
    "else:\n",
    "    print(\"File 'svm_rf_diabetes_model.pkl' tidak ditemukan di direktori\")"
   ]
  },
  {
   "cell_type": "markdown",
   "metadata": {},
   "source": [
    "- Buka terminal dengan CTRL+Shift+`, kemudian ketik `conda activate base` untuk memastikan environment Anaconda sudah berjalan\n",
    "- Untuk menjalankan projek Streamlit, ketik `streamlit run (path file)`\n",
    "- Contoh : `streamlit run \"D:\\Kuliah\\Semester 5\\diabetes_streamlit.py\"`\n",
    "- Ketika dijalankan, secara otomatis akan otomatis terbuka tab baru di browser"
   ]
  }
 ],
 "metadata": {
  "kernelspec": {
   "display_name": "base",
   "language": "python",
   "name": "python3"
  },
  "language_info": {
   "codemirror_mode": {
    "name": "ipython",
    "version": 3
   },
   "file_extension": ".py",
   "mimetype": "text/x-python",
   "name": "python",
   "nbconvert_exporter": "python",
   "pygments_lexer": "ipython3",
   "version": "3.11.4"
  }
 },
 "nbformat": 4,
 "nbformat_minor": 2
}
